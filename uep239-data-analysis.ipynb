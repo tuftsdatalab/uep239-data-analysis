{
 "cells": [
  {
   "cell_type": "markdown",
   "id": "a94363f6-56ac-48e2-a77b-a01f473ce956",
   "metadata": {},
   "source": [
    "# UEP-0239: Python for Data Analysis and Visualization\n",
    "\n",
    "---\n",
    "\n",
    "## Importing Packages"
   ]
  },
  {
   "cell_type": "code",
   "execution_count": null,
   "id": "7199e6cd-77ea-4d60-808e-8831582b6a74",
   "metadata": {},
   "outputs": [],
   "source": [
    "import pandas as pd\n",
    "import matplotlib.pyplot as plt\n",
    "import seaborn as sns\n",
    "import hvplot.pandas\n",
    "import plotly.express as px"
   ]
  },
  {
   "cell_type": "markdown",
   "id": "9aea8562-9b46-46a1-97ef-51bfadf2f2bf",
   "metadata": {},
   "source": [
    "---\n",
    "\n",
    "## Getting Started with Pandas"
   ]
  },
  {
   "cell_type": "code",
   "execution_count": null,
   "id": "8744b19c-db10-4f4f-ba7e-ad84069bfae5",
   "metadata": {},
   "outputs": [],
   "source": [
    "pop = pd.read_csv('data/population.csv', skiprows=4)"
   ]
  },
  {
   "cell_type": "code",
   "execution_count": null,
   "id": "1eb99f7c-458a-4d9e-9d6e-309d6865bb66",
   "metadata": {},
   "outputs": [],
   "source": [
    "pop"
   ]
  },
  {
   "cell_type": "code",
   "execution_count": null,
   "id": "5044c2bd-41aa-4a58-9788-d246df3ed18c",
   "metadata": {},
   "outputs": [],
   "source": [
    "pop.columns"
   ]
  },
  {
   "cell_type": "code",
   "execution_count": null,
   "id": "21d630ee-18fb-4e63-b6d9-0e87ad547e6d",
   "metadata": {},
   "outputs": [],
   "source": [
    "pop.dtypes"
   ]
  },
  {
   "cell_type": "code",
   "execution_count": null,
   "id": "578f8f00-a30c-46a0-b91a-47cc9437776f",
   "metadata": {},
   "outputs": [],
   "source": [
    "pop.drop(columns=['Indicator Name', 'Indicator Code'], inplace=True)"
   ]
  },
  {
   "cell_type": "code",
   "execution_count": null,
   "id": "1b8d1ba5-d0ae-4dfc-8d4b-948c3db2d65a",
   "metadata": {},
   "outputs": [],
   "source": [
    "pop.head()"
   ]
  },
  {
   "cell_type": "code",
   "execution_count": null,
   "id": "8651e2e0-25d0-4411-bc58-09cb7f7ec667",
   "metadata": {},
   "outputs": [],
   "source": [
    "gdp = (pd.read_csv('data/gdp.csv', skiprows=4)\n",
    "         .drop(columns=['Indicator Name', 'Indicator Code']))"
   ]
  },
  {
   "cell_type": "code",
   "execution_count": null,
   "id": "99c039a4-ad72-491f-95f0-6387b0283c10",
   "metadata": {},
   "outputs": [],
   "source": [
    "gdp.head()"
   ]
  },
  {
   "cell_type": "markdown",
   "id": "22f4d5a0-6900-4523-acf6-bb518347aa6c",
   "metadata": {},
   "source": [
    "---\n",
    "\n",
    "## Long vs Wide Data"
   ]
  },
  {
   "cell_type": "code",
   "execution_count": null,
   "id": "04ef976e-1d4b-4196-a939-29669bcd032f",
   "metadata": {},
   "outputs": [],
   "source": [
    "pop_long = pop.melt(id_vars=['Country Name', 'Country Code'],\n",
    "                    var_name='year',\n",
    "                    value_name='population')"
   ]
  },
  {
   "cell_type": "code",
   "execution_count": null,
   "id": "45a15cd0-209e-4b8d-aa0b-31c82873409e",
   "metadata": {},
   "outputs": [],
   "source": [
    "pop_long"
   ]
  },
  {
   "cell_type": "code",
   "execution_count": null,
   "id": "01023410-99c9-4175-bbce-e9b4a11edfb3",
   "metadata": {},
   "outputs": [],
   "source": [
    "pop_long.dtypes"
   ]
  },
  {
   "cell_type": "code",
   "execution_count": null,
   "id": "1527d81e-8f90-41e0-b6f8-bbc78a253dad",
   "metadata": {},
   "outputs": [],
   "source": [
    "pop_long['year'] = pop_long.year.astype(int)"
   ]
  },
  {
   "cell_type": "code",
   "execution_count": null,
   "id": "4e985dd4-4562-44a1-9f71-8ac37497b8db",
   "metadata": {},
   "outputs": [],
   "source": [
    "pop_long.dtypes"
   ]
  },
  {
   "cell_type": "code",
   "execution_count": null,
   "id": "920e487f-1644-4748-a40c-b6f42cf75638",
   "metadata": {},
   "outputs": [],
   "source": [
    "gdp_long = (gdp.melt(id_vars=['Country Name', 'Country Code'],\n",
    "                    var_name='year',\n",
    "                    value_name='gdp')\n",
    "               .astype({'year': int}))"
   ]
  },
  {
   "cell_type": "code",
   "execution_count": null,
   "id": "b3b346e5-d428-4205-81bb-a41edaa691da",
   "metadata": {},
   "outputs": [],
   "source": [
    "gdp_long"
   ]
  },
  {
   "cell_type": "code",
   "execution_count": null,
   "id": "8f779178-e5c3-440c-9a78-8f05979251eb",
   "metadata": {},
   "outputs": [],
   "source": [
    "gdp_long.dtypes"
   ]
  },
  {
   "cell_type": "markdown",
   "id": "7eb55ecd-a0b0-4883-a0a3-6ad43db99567",
   "metadata": {},
   "source": [
    "---\n",
    "\n",
    "## Joining Datasets"
   ]
  },
  {
   "cell_type": "code",
   "execution_count": null,
   "id": "d9b1851e-3f21-4e85-a128-cf73f7fd78fe",
   "metadata": {},
   "outputs": [],
   "source": [
    "data = pop_long.merge(gdp_long,\n",
    "                      on=['Country Name', 'Country Code', 'year'],\n",
    "                      how='inner')"
   ]
  },
  {
   "cell_type": "code",
   "execution_count": null,
   "id": "af607d13-d44c-4a72-9909-3ef9f26762c5",
   "metadata": {},
   "outputs": [],
   "source": [
    "data.head()"
   ]
  },
  {
   "cell_type": "code",
   "execution_count": null,
   "id": "bb782928-c205-4756-b3da-8efc1eef11ea",
   "metadata": {},
   "outputs": [],
   "source": [
    "data['gdp_per_capita'] = data.gdp / data.population"
   ]
  },
  {
   "cell_type": "code",
   "execution_count": null,
   "id": "31d6ff2c-5274-4948-afa7-d8ba036ee3e7",
   "metadata": {},
   "outputs": [],
   "source": [
    "data.head()"
   ]
  },
  {
   "cell_type": "code",
   "execution_count": null,
   "id": "194f007d-e38d-4577-a9ea-b630abe30d7f",
   "metadata": {},
   "outputs": [],
   "source": [
    "def read_world_bank_data(file_name, value_name):\n",
    "    return (pd.read_csv(file_name, skiprows=4)\n",
    "              .drop(columns=['Indicator Name', 'Indicator Code'])\n",
    "              .melt(id_vars=['Country Name', 'Country Code'],\n",
    "                    var_name='year',\n",
    "                    value_name=value_name)\n",
    "              .astype({'year': int}))"
   ]
  },
  {
   "cell_type": "code",
   "execution_count": null,
   "id": "9a2a8150-6632-4ea9-8102-664c8da30533",
   "metadata": {},
   "outputs": [],
   "source": [
    "life_exp = read_world_bank_data(file_name = 'data/life-expectancy.csv',\n",
    "                                value_name = 'life_expectancy')"
   ]
  },
  {
   "cell_type": "code",
   "execution_count": null,
   "id": "90450b9e-194c-4692-af9b-6c59eaa0982f",
   "metadata": {},
   "outputs": [],
   "source": [
    "life_exp.head()"
   ]
  },
  {
   "cell_type": "code",
   "execution_count": null,
   "id": "7dd2207d-a7e2-4396-b7de-bb60898e9547",
   "metadata": {},
   "outputs": [],
   "source": [
    "data = data.merge(life_exp,\n",
    "                  on=['Country Name', 'Country Code', 'year'],\n",
    "                  how='inner')"
   ]
  },
  {
   "cell_type": "code",
   "execution_count": null,
   "id": "1cb161df-eb0b-4004-beed-be5c56fd2504",
   "metadata": {},
   "outputs": [],
   "source": [
    "data.head()"
   ]
  },
  {
   "cell_type": "code",
   "execution_count": null,
   "id": "b977f2f9-591b-4bff-8687-ff7fb8b24266",
   "metadata": {},
   "outputs": [],
   "source": [
    "data.rename(columns={'Country Name': 'country_name',\n",
    "                     'Country Code': 'country_code'},\n",
    "            inplace=True)"
   ]
  },
  {
   "cell_type": "code",
   "execution_count": null,
   "id": "da80a646-84b5-4ccb-bfb7-60a8a80e9457",
   "metadata": {},
   "outputs": [],
   "source": [
    "data.head()"
   ]
  },
  {
   "cell_type": "code",
   "execution_count": null,
   "id": "9bb26b7e-00f4-45eb-9ffe-a9bf38712618",
   "metadata": {},
   "outputs": [],
   "source": [
    "m49 = pd.read_csv('data/m49.csv')"
   ]
  },
  {
   "cell_type": "code",
   "execution_count": null,
   "id": "9406a831-faff-47a4-9a13-b697480f8444",
   "metadata": {},
   "outputs": [],
   "source": [
    "m49.head()"
   ]
  },
  {
   "cell_type": "code",
   "execution_count": null,
   "id": "3912b5c6-2b40-42e1-b884-c650a100a775",
   "metadata": {},
   "outputs": [],
   "source": [
    "regions = m49[['Region Name', 'ISO-alpha3 Code']].copy()"
   ]
  },
  {
   "cell_type": "code",
   "execution_count": null,
   "id": "9a52444f-2ea5-4326-8e4e-52c06fd92883",
   "metadata": {},
   "outputs": [],
   "source": [
    "regions.head()"
   ]
  },
  {
   "cell_type": "code",
   "execution_count": null,
   "id": "b203d5f9-8b2d-41b7-8872-8962ce685e2f",
   "metadata": {},
   "outputs": [],
   "source": [
    "regions.rename(columns={'Region Name': 'region_name',\n",
    "                        'ISO-alpha3 Code': 'country_code'},\n",
    "               inplace=True)"
   ]
  },
  {
   "cell_type": "code",
   "execution_count": null,
   "id": "6c96b445-0c28-40f3-963b-877504157146",
   "metadata": {},
   "outputs": [],
   "source": [
    "regions.head()"
   ]
  },
  {
   "cell_type": "code",
   "execution_count": null,
   "id": "75e61add-145d-4828-bb31-8a449f638014",
   "metadata": {},
   "outputs": [],
   "source": [
    "data = data.merge(regions,\n",
    "                  on='country_code',\n",
    "                  how='inner')"
   ]
  },
  {
   "cell_type": "code",
   "execution_count": null,
   "id": "812de935-7c99-40ae-bd4e-af6ecf860c56",
   "metadata": {},
   "outputs": [],
   "source": [
    "data.head()"
   ]
  },
  {
   "cell_type": "markdown",
   "id": "60a8d8a2-8bb5-4c9c-8fc2-920cf9993307",
   "metadata": {},
   "source": [
    "---\n",
    "\n",
    "## Boolean Indexing"
   ]
  },
  {
   "cell_type": "code",
   "execution_count": null,
   "id": "5829e274-d5b8-4af2-9d86-7f1b789eec19",
   "metadata": {},
   "outputs": [],
   "source": [
    "usa_data = data[data.country_code == 'USA']"
   ]
  },
  {
   "cell_type": "code",
   "execution_count": null,
   "id": "d53c72ad-4d05-44a3-bf8d-ceb17f64ffcd",
   "metadata": {},
   "outputs": [],
   "source": [
    "usa_data.head()"
   ]
  },
  {
   "cell_type": "code",
   "execution_count": null,
   "id": "22e41588-11a3-4b31-99a0-44b9f2fbdd0a",
   "metadata": {},
   "outputs": [],
   "source": [
    "usa_data.country_name.unique()"
   ]
  },
  {
   "cell_type": "code",
   "execution_count": null,
   "id": "1ea72f0e-d443-4002-8b19-e3f76889a601",
   "metadata": {},
   "outputs": [],
   "source": [
    "usa_data.country_name.unique()[0]"
   ]
  },
  {
   "cell_type": "markdown",
   "id": "ab182b00-2284-4a59-aceb-ced28829f8db",
   "metadata": {},
   "source": [
    "---\n",
    "\n",
    "## Creating Visualizations"
   ]
  },
  {
   "cell_type": "code",
   "execution_count": null,
   "id": "d2fb4e4d-e062-4e1b-af12-62f69ddbb97e",
   "metadata": {},
   "outputs": [],
   "source": [
    "plt.plot(usa_data.year, usa_data.population)\n",
    "plt.show()"
   ]
  },
  {
   "cell_type": "code",
   "execution_count": null,
   "id": "d36f63f3-970d-4b31-9bae-80fed17b9cbf",
   "metadata": {},
   "outputs": [],
   "source": [
    "plt.plot('year', 'gdp', data=usa_data)\n",
    "plt.show()"
   ]
  },
  {
   "cell_type": "code",
   "execution_count": null,
   "id": "fdd45aeb-c551-4ae9-8685-e8dcf8f63e95",
   "metadata": {},
   "outputs": [],
   "source": [
    "usa_data.plot(x='year', y='life_expectancy')\n",
    "plt.show()"
   ]
  },
  {
   "cell_type": "code",
   "execution_count": null,
   "id": "71c465db-3fdf-4b94-9cd4-553ab2c9b145",
   "metadata": {},
   "outputs": [],
   "source": [
    "data[data.country_code == 'USA'].plot(x='year',\n",
    "                                      y='gdp_per_capita',\n",
    "                                      color='blue',\n",
    "                                      label='USA')\n",
    "data[data.country_code == 'CAN'].plot(x='year',\n",
    "                                      y='gdp_per_capita',\n",
    "                                      color='red',\n",
    "                                      label='Canada',\n",
    "                                      ax=plt.gca())\n",
    "plt.ylabel('GDP per capita')\n",
    "plt.show()"
   ]
  },
  {
   "cell_type": "code",
   "execution_count": null,
   "id": "406ce090-ea0a-46ec-a501-2e1eb6be20f1",
   "metadata": {},
   "outputs": [],
   "source": [
    "fig, ax = plt.subplots(figsize=(10, 6))\n",
    "ax.plot(usa_data.year, usa_data.gdp_per_capita, 'g--', label='GDP per capita')\n",
    "plt.ylabel('GDP per capita', color='g',)\n",
    "plt.xlabel('year')\n",
    "ax2 = ax.twinx()\n",
    "ax2.plot(usa_data.year, usa_data.life_expectancy, 'mx', label='life expectancy')\n",
    "plt.ylabel('life expectancy', color='m')\n",
    "plt.title('USA', size=20)\n",
    "fig.legend()\n",
    "plt.show()"
   ]
  },
  {
   "cell_type": "markdown",
   "id": "ca5e8b7d-857a-41c9-b63b-d902f580a660",
   "metadata": {},
   "source": [
    "---\n",
    "\n",
    "## Recreating Gapminder"
   ]
  },
  {
   "cell_type": "code",
   "execution_count": null,
   "id": "16ee29a7-98bc-4a80-877e-d0b79a1c50b8",
   "metadata": {},
   "outputs": [],
   "source": [
    "data2019 = data[data.year == 2019]"
   ]
  },
  {
   "cell_type": "code",
   "execution_count": null,
   "id": "2a818751-0b83-420b-af6d-6619a1d55f7b",
   "metadata": {},
   "outputs": [],
   "source": [
    "data2019"
   ]
  },
  {
   "cell_type": "code",
   "execution_count": null,
   "id": "93c4f1b5-ad97-4c37-b10b-e489aa0ebccf",
   "metadata": {},
   "outputs": [],
   "source": [
    "plt.hist(data2019.gdp_per_capita)\n",
    "plt.xlabel('GDP')\n",
    "plt.show()"
   ]
  },
  {
   "cell_type": "code",
   "execution_count": null,
   "id": "d84f15bd-0f29-4881-bad2-462383fe05b0",
   "metadata": {},
   "outputs": [],
   "source": [
    "sns.histplot(data2019.life_expectancy, kde=True)\n",
    "plt.show()"
   ]
  },
  {
   "cell_type": "code",
   "execution_count": null,
   "id": "f6bff821-140e-4b3f-8a6e-808f9e58ebff",
   "metadata": {},
   "outputs": [],
   "source": [
    "data2019.plot(x='gdp_per_capita', y='life_expectancy', kind='scatter')\n",
    "plt.show()"
   ]
  },
  {
   "cell_type": "code",
   "execution_count": null,
   "id": "32205a2c-d451-416e-9652-a07b65f0cc31",
   "metadata": {},
   "outputs": [],
   "source": [
    "sns.jointplot(data=data2019,\n",
    "              x='gdp_per_capita',\n",
    "              y='life_expectancy',\n",
    "              kind='kde',\n",
    "              fill=True)\n",
    "plt.show()"
   ]
  },
  {
   "cell_type": "code",
   "execution_count": null,
   "id": "0c82fa13-adcf-40a6-a37e-78997c3a2efc",
   "metadata": {},
   "outputs": [],
   "source": [
    "plt.scatter(data2019.gdp_per_capita, data2019.life_expectancy)\n",
    "plt.xscale('log')\n",
    "plt.show()"
   ]
  },
  {
   "cell_type": "code",
   "execution_count": null,
   "id": "5a3a3e64-664d-48ad-9750-a55f715a222e",
   "metadata": {},
   "outputs": [],
   "source": [
    "fig, ax = plt.subplots(figsize=(10, 10))\n",
    "plt.scatter(data2019.gdp_per_capita, data2019.life_expectancy,\n",
    "            s=data2019.population/data2019.population.max()*5000,\n",
    "            alpha=0.5)\n",
    "plt.xscale('log')\n",
    "plt.show()"
   ]
  },
  {
   "cell_type": "code",
   "execution_count": null,
   "id": "8f88b77a-e948-40f5-82f9-53bae07aac9c",
   "metadata": {},
   "outputs": [],
   "source": [
    "fig, ax = plt.subplots(figsize=(10, 10))\n",
    "for key, group in data2019.groupby('region_name'):\n",
    "    plt.scatter(group.gdp_per_capita, group.life_expectancy,\n",
    "                s=group.population/data2019.population.max()*5000,\n",
    "                label=key,\n",
    "                alpha=0.5)\n",
    "plt.xscale('log')\n",
    "plt.show()"
   ]
  },
  {
   "cell_type": "code",
   "execution_count": null,
   "id": "13dff6a9-b474-4ace-846a-007667ec1a70",
   "metadata": {},
   "outputs": [],
   "source": [
    "fig, ax = plt.subplots(figsize=(10, 10))\n",
    "sns.scatterplot(data=data2019,\n",
    "                x='gdp_per_capita',\n",
    "                y='life_expectancy',\n",
    "                size='population',\n",
    "                sizes=(10, 5000),\n",
    "                hue='region_name',\n",
    "                alpha=0.5,\n",
    "                legend=False)\n",
    "plt.xscale('log')\n",
    "plt.show()"
   ]
  },
  {
   "cell_type": "markdown",
   "id": "f7c6a7b9-211b-4584-b436-42c6f06cda92",
   "metadata": {},
   "source": [
    "---\n",
    "\n",
    "## Interactive Visualizations"
   ]
  },
  {
   "cell_type": "code",
   "execution_count": null,
   "id": "7405796e-fef1-493f-8d5a-ec3b24b48e2d",
   "metadata": {},
   "outputs": [],
   "source": [
    "data2019.hvplot.scatter(x='gdp_per_capita',\n",
    "                        y='life_expectancy',\n",
    "                        s='population',\n",
    "                        c='region_name',\n",
    "                        scale=1/data2019.population.max()*2000000,\n",
    "                        hover_cols=['country_name', 'country_code'],\n",
    "                        alpha=0.5,\n",
    "                        logx=True,\n",
    "                        width=650,\n",
    "                        height=500)"
   ]
  },
  {
   "cell_type": "code",
   "execution_count": null,
   "id": "b99d2513-9c64-4c80-ba8a-85b0d62d44c0",
   "metadata": {},
   "outputs": [],
   "source": [
    "px.scatter(data_frame=data2019.dropna(),\n",
    "           x='gdp_per_capita',\n",
    "           y='life_expectancy',\n",
    "           size='population',\n",
    "           color='region_name',\n",
    "           hover_name='country_name',\n",
    "           hover_data=['country_code'],\n",
    "           size_max=40,\n",
    "           opacity=0.5,\n",
    "           log_x=True,\n",
    "           width=650,\n",
    "           height=600)"
   ]
  },
  {
   "cell_type": "markdown",
   "id": "37e0d1ba-1b6d-4f08-b233-ea5b7b21c729",
   "metadata": {
    "tags": []
   },
   "source": [
    "---\n",
    "\n",
    "## Working with Timeseries"
   ]
  },
  {
   "cell_type": "code",
   "execution_count": null,
   "id": "da825e69-21a8-48db-9d35-8e1b44d4a80a",
   "metadata": {},
   "outputs": [],
   "source": [
    "mbta = pd.read_csv('data/mbta-gated-entries-2021.csv')"
   ]
  },
  {
   "cell_type": "code",
   "execution_count": null,
   "id": "45c2f5e4-12a5-412a-af9b-2a25a8ba4c7f",
   "metadata": {},
   "outputs": [],
   "source": [
    "mbta.head()"
   ]
  },
  {
   "cell_type": "code",
   "execution_count": null,
   "id": "ded3ff4e-6118-4765-87d6-7ed05fdb8109",
   "metadata": {},
   "outputs": [],
   "source": [
    "mbta.dtypes"
   ]
  },
  {
   "cell_type": "code",
   "execution_count": null,
   "id": "6de97266-29eb-4636-8c39-2c2a9598d7b5",
   "metadata": {},
   "outputs": [],
   "source": [
    "mbta['time_period'] = mbta.time_period.str.strip('()')"
   ]
  },
  {
   "cell_type": "code",
   "execution_count": null,
   "id": "cbd3ba7c-e7f7-4d43-b364-00123c17eae0",
   "metadata": {},
   "outputs": [],
   "source": [
    "mbta.head()"
   ]
  },
  {
   "cell_type": "code",
   "execution_count": null,
   "id": "a689037a-1c17-4317-a337-29173cc64e09",
   "metadata": {},
   "outputs": [],
   "source": [
    "mbta['timestamp'] = pd.to_datetime(mbta.service_date + ' ' + mbta.time_period)"
   ]
  },
  {
   "cell_type": "code",
   "execution_count": null,
   "id": "43d30c8e-4d84-4e60-b420-a8a3b9fcc577",
   "metadata": {},
   "outputs": [],
   "source": [
    "mbta"
   ]
  },
  {
   "cell_type": "code",
   "execution_count": null,
   "id": "38c582dd-a0b3-4d89-a543-fb0559f8431a",
   "metadata": {},
   "outputs": [],
   "source": [
    "mbta.dtypes"
   ]
  },
  {
   "cell_type": "code",
   "execution_count": null,
   "id": "430a4df6-fc0c-42a3-a8a3-96f5cd9431ba",
   "metadata": {},
   "outputs": [],
   "source": [
    "mbta = mbta[['timestamp', 'station_name', 'route_or_line', 'gated_entries']].copy()"
   ]
  },
  {
   "cell_type": "code",
   "execution_count": null,
   "id": "8f367cec-b28c-4612-b69e-6b9f64621278",
   "metadata": {},
   "outputs": [],
   "source": [
    "mbta"
   ]
  },
  {
   "cell_type": "code",
   "execution_count": null,
   "id": "42d1ddf0-1ae6-4581-aa12-24846e6a8700",
   "metadata": {},
   "outputs": [],
   "source": [
    "mbta.gated_entries.sum()"
   ]
  },
  {
   "cell_type": "code",
   "execution_count": null,
   "id": "fb45560b-70d1-4203-98e7-5189c6bf246d",
   "metadata": {},
   "outputs": [],
   "source": [
    "mbta.gated_entries[mbta.timestamp == '2020-02-24'].sum()"
   ]
  },
  {
   "cell_type": "code",
   "execution_count": null,
   "id": "10bfdbb7-de9a-4747-b81e-bd29a64ac356",
   "metadata": {},
   "outputs": [],
   "source": [
    "mbta.gated_entries[\n",
    "    (mbta.timestamp >= '2020-02-01') & (mbta.timestamp < '2020-03-01')].sum()"
   ]
  },
  {
   "cell_type": "code",
   "execution_count": null,
   "id": "f67ce330-d90f-4c9f-ae4c-ab204ce4b376",
   "metadata": {},
   "outputs": [],
   "source": [
    "mbta.gated_entries[mbta.timestamp.dt.month == 2].sum()"
   ]
  },
  {
   "cell_type": "markdown",
   "id": "a1d10ecc-8398-4a68-b6f1-e152e13c622b",
   "metadata": {},
   "source": [
    "---\n",
    "\n",
    "## Grouping and Aggregating"
   ]
  },
  {
   "cell_type": "code",
   "execution_count": null,
   "id": "be27e06a-1982-4eb2-ba1a-d44e869f6203",
   "metadata": {},
   "outputs": [],
   "source": [
    "mbta['date'] = mbta.timestamp.dt.date"
   ]
  },
  {
   "cell_type": "code",
   "execution_count": null,
   "id": "8155aa25-5e43-4b05-ab3a-0cf14711c8d9",
   "metadata": {},
   "outputs": [],
   "source": [
    "mbta_agg = mbta.groupby('date').gated_entries.sum().to_frame().reset_index()"
   ]
  },
  {
   "cell_type": "code",
   "execution_count": null,
   "id": "569f3f24-7bb8-4927-86be-641ee7cb388e",
   "metadata": {},
   "outputs": [],
   "source": [
    "mbta_agg.head()"
   ]
  },
  {
   "cell_type": "code",
   "execution_count": null,
   "id": "c0ece1e3-1e99-49c8-bbcc-12b62df0ad4e",
   "metadata": {},
   "outputs": [],
   "source": [
    "mbta_agg.gated_entries.max()"
   ]
  },
  {
   "cell_type": "code",
   "execution_count": null,
   "id": "2e8a12ce-b116-4391-a131-98b3c5f7ef43",
   "metadata": {},
   "outputs": [],
   "source": [
    "mbta_agg.date[mbta_agg.gated_entries == mbta_agg.gated_entries.max()]"
   ]
  },
  {
   "cell_type": "code",
   "execution_count": null,
   "id": "2bb4ee24-7963-4fc2-b321-3e16c4db0385",
   "metadata": {},
   "outputs": [],
   "source": [
    "mbta_agg.date[mbta_agg.gated_entries == mbta_agg.gated_entries.max()].values[0]"
   ]
  },
  {
   "cell_type": "code",
   "execution_count": null,
   "id": "606621c4-0f55-4ec3-a972-505f8ba53bd3",
   "metadata": {},
   "outputs": [],
   "source": [
    "(mbta.groupby('station_name')\n",
    "     .gated_entries.sum()\n",
    "     .sort_values()\n",
    "     .to_frame()\n",
    "     .reset_index())"
   ]
  },
  {
   "cell_type": "code",
   "execution_count": null,
   "id": "2d12bafe-a9a4-4e23-9b35-bc6dc88c7157",
   "metadata": {},
   "outputs": [],
   "source": [
    "(mbta.groupby('route_or_line')\n",
    "     .gated_entries.sum()\n",
    "     .sort_values()\n",
    "     .to_frame()\n",
    "     .reset_index())"
   ]
  },
  {
   "cell_type": "code",
   "execution_count": null,
   "id": "315e0338-5411-4e83-8e21-32a7b949e392",
   "metadata": {},
   "outputs": [],
   "source": [
    "mbta_bydate = (mbta.groupby(['date', 'station_name', 'route_or_line'])\n",
    "                   .gated_entries.sum()\n",
    "                   .to_frame()\n",
    "                   .reset_index())"
   ]
  },
  {
   "cell_type": "code",
   "execution_count": null,
   "id": "6bd1d4c7-779e-4fe8-92e2-192c0d361dec",
   "metadata": {},
   "outputs": [],
   "source": [
    "mbta_bydate"
   ]
  },
  {
   "cell_type": "code",
   "execution_count": null,
   "id": "5bc5262d-2825-4d89-8618-c811ef2eb1fb",
   "metadata": {},
   "outputs": [],
   "source": []
  }
 ],
 "metadata": {
  "kernelspec": {
   "display_name": "Python 3 (ipykernel)",
   "language": "python",
   "name": "python3"
  },
  "language_info": {
   "codemirror_mode": {
    "name": "ipython",
    "version": 3
   },
   "file_extension": ".py",
   "mimetype": "text/x-python",
   "name": "python",
   "nbconvert_exporter": "python",
   "pygments_lexer": "ipython3",
   "version": "3.9.10"
  }
 },
 "nbformat": 4,
 "nbformat_minor": 5
}
